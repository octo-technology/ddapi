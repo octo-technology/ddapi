{
 "cells": [
  {
   "cell_type": "markdown",
   "metadata": {},
   "source": [
    "# Advanced Datadriver - Write Options"
   ]
  },
  {
   "cell_type": "markdown",
   "metadata": {},
   "source": [
    "_Execute the following cell in order to make the table of contents appear_"
   ]
  },
  {
   "cell_type": "code",
   "execution_count": null,
   "metadata": {},
   "outputs": [],
   "source": [
    "%%javascript\n",
    "$.getScript('https://kmahelona.github.io/ipython_notebook_goodies/ipython_notebook_toc.js')"
   ]
  },
  {
   "cell_type": "markdown",
   "metadata": {},
   "source": [
    "# Overview\n",
    "In this notebook, you will learn how you can fine tune the relationship between your in-memory data and the database. This notebook will go over some issues you may run into while using datadriver and the proper options to use in order to tackle them."
   ]
  },
  {
   "cell_type": "markdown",
   "metadata": {},
   "source": [
    "<h2 id=\"tocheading\">Table of Contents</h2>\n",
    "<div id=\"toc\"></div>"
   ]
  },
  {
   "cell_type": "markdown",
   "metadata": {},
   "source": [
    "# Prerequisite\n",
    "In order to complete this notebook, you will need: \n",
    "* a basic Python knowledge;\n",
    "* some familiarity with the [pandas](http://pandas.pydata.org/) and [scikit-learn](http://scikit-learn.org/stable/) python packages;\n",
    "* access to a Datadriver environment.\n",
    "\n",
    "You will also need to go over the [Datadriver for DataScientists - Part 1](./0-DatadriverForDataScientists_Part1.ipynb) and [Datadriver for DataScientists - Part 2](./0-DatadriverForDataScientists_Part2.ipynb), if not done yet."
   ]
  },
  {
   "cell_type": "markdown",
   "metadata": {},
   "source": [
    "# Useful methods and keyword arguments"
   ]
  },
  {
   "cell_type": "markdown",
   "metadata": {},
   "source": [
    "There are several ways to control the options used when writing data to the database, which we'll call *write_options*."
   ]
  },
  {
   "cell_type": "markdown",
   "metadata": {},
   "source": [
    "## Keyword Arguments"
   ]
  },
  {
   "cell_type": "markdown",
   "metadata": {},
   "source": [
    "### Output_table"
   ]
  },
  {
   "cell_type": "code",
   "execution_count": null,
   "metadata": {},
   "outputs": [],
   "source": [
    "from dd import DB\n",
    "from dd.api.contexts import LocalContext\n",
    "import pkg_resources\n",
    "\n",
    "\n",
    "# Context\n",
    "db = DB(dbtype='sqlite', filename=':memory:')\n",
    "context = LocalContext(db)\n",
    "\n",
    "# Loading data\n",
    "titanic_datapath = 'https://raw.githubusercontent.com/justmarkham/DAT8/master/data/titanic.csv'\n",
    "dataset = context.load_file(titanic_datapath,\n",
    "                            table_name=\"writeoptions.dataset\",\n",
    "                            write_options=dict(index=False, if_exists='replace'))"
   ]
  },
  {
   "cell_type": "markdown",
   "metadata": {},
   "source": [
    "We just loaded some data into the database. Now let's start transforming it:"
   ]
  },
  {
   "cell_type": "code",
   "execution_count": null,
   "metadata": {},
   "outputs": [],
   "source": [
    "dataset.head()"
   ]
  },
  {
   "cell_type": "code",
   "execution_count": null,
   "metadata": {},
   "outputs": [],
   "source": [
    "new_dataset = dataset.select_columns([\"sibsp\", \"fare\", \"name\"])\n",
    "new_dataset.output_table"
   ]
  },
  {
   "cell_type": "markdown",
   "metadata": {},
   "source": [
    "As you can see, the created dataset was assigned an output table, which means that the result of the computation will be saved to this location. You might want to control where this table will be saved, for example if you wish to ensure a location which is consistent with a downstream application. This is easily done with the output_table keyword :"
   ]
  },
  {
   "cell_type": "code",
   "execution_count": null,
   "metadata": {},
   "outputs": [],
   "source": [
    "new_dataset = dataset.select_columns([\"sibsp\", \"fare\", \"name\"], output_table=\"writeoptions.new_dataset\")\n",
    "new_dataset.output_table"
   ]
  },
  {
   "cell_type": "code",
   "execution_count": null,
   "metadata": {
    "collapsed": true
   },
   "outputs": [],
   "source": []
  }
 ],
 "metadata": {
  "anaconda-cloud": {},
  "kernelspec": {
   "display_name": "Python 3",
   "language": "python",
   "name": "python3"
  },
  "language_info": {
   "codemirror_mode": {
    "name": "ipython",
    "version": 3
   },
   "file_extension": ".py",
   "mimetype": "text/x-python",
   "name": "python",
   "nbconvert_exporter": "python",
   "pygments_lexer": "ipython3",
   "version": "3.6.8"
  }
 },
 "nbformat": 4,
 "nbformat_minor": 2
}
